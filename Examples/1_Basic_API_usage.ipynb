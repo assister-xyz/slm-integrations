{
 "cells": [
  {
   "cell_type": "markdown",
   "id": "c11940a4-5346-46b6-8ab6-6df4384e07c6",
   "metadata": {},
   "source": [
    "## Basic example on how to use Assisterr SLM's via API"
   ]
  },
  {
   "cell_type": "code",
   "execution_count": 39,
   "id": "4849c17b-9458-452e-b8d1-abf3627e935d",
   "metadata": {},
   "outputs": [],
   "source": [
    "import requests\n",
    "import json"
   ]
  },
  {
   "cell_type": "code",
   "execution_count": 40,
   "id": "502bd87b-7836-4f1e-a044-25e04082f6f9",
   "metadata": {},
   "outputs": [],
   "source": [
    "# API Key can be obtained from https://build.assisterr.ai/ailab \n",
    "ASSISTERR_API_KEY = ''\n",
    "ASSISTERR_BASE_URL = 'https://api.assisterr.ai'\n"
   ]
  },
  {
   "cell_type": "code",
   "execution_count": 41,
   "id": "e78fe2fd-4989-4b43-9ab2-835940990787",
   "metadata": {},
   "outputs": [],
   "source": [
    "# Post request with user query to call SLM\n",
    "def slm_request(slm_slug: str, query: str):\n",
    "    \"\"\"\n",
    "    slm_slug: slm agent slug that could be obtained from \n",
    "    query: user query\n",
    "    \"\"\"\n",
    "    \n",
    "    url = f'{ASSISTERR_BASE_URL}/api/v1/slm/{slm_slug}/chat/'\n",
    "\n",
    "    response = requests.post(url=url, headers={'X-Api-Key': ASSISTERR_API_KEY}, json={'query': query})\n",
    "    result = response.json()['message']\n",
    "\n",
    "    return result\n",
    "\n",
    "# Post request with user query to call SLM and obtain streaming data\n",
    "def slm_request_stream(slm_slug: str, query: str):\n",
    "    \"\"\"\n",
    "    slm_slug: slm agent slug\n",
    "    query: user query\n",
    "    \"\"\"\n",
    "    \n",
    "    url = f'{ASSISTERR_BASE_URL}/api/v1/slm/{slm_slug}/chat/stream'\n",
    "\n",
    "    response = requests.post(url=url, headers={'X-Api-Key': ASSISTERR_API_KEY}, json={'query': query}, stream=True)\n",
    "    \n",
    "    for r in response:\n",
    "        yield json.loads(r)['message']"
   ]
  },
  {
   "cell_type": "code",
   "execution_count": null,
   "id": "5c7214a7-ec7f-452d-a34f-1751f79ceb4f",
   "metadata": {},
   "outputs": [],
   "source": []
  },
  {
   "cell_type": "code",
   "execution_count": 42,
   "id": "54093279-f260-4fbd-ae0f-b40ce85d57fd",
   "metadata": {},
   "outputs": [
    {
     "data": {
      "text/plain": [
       "\"Solana is a blockchain built for mass adoption. It's a high-performance network that is utilized for a range of use cases, including finance, NFTs, payments, and gaming. Solana operates as a single global state machine and is open, interoperable and decentralized.\\n\\nIf you'd like to know more about getting started with Solana, you can refer to the [Solana Documentation](https://docs.solana.com/).\""
      ]
     },
     "execution_count": 42,
     "metadata": {},
     "output_type": "execute_result"
    }
   ],
   "source": [
    "slm_request('solana_assistant', 'What is Solana?')"
   ]
  },
  {
   "cell_type": "code",
   "execution_count": 28,
   "id": "b49affcd-dc85-4732-9cb2-88e2844b4e7c",
   "metadata": {},
   "outputs": [
    {
     "name": "stdout",
     "output_type": "stream",
     "text": [
      "Tokens on Solana can serve various purposes, such as in-game rewards, incentives, or other applications. For example, you can create tokens and distribute them to players when they complete specific in-game actions. \n",
      "\n",
      " Tokens on Solana are primarily referred to as SPL Tokens. They are all fungible and non-fungible tokens, including NFTs. SPL Tokens are based on the Solana Program Library (SPL) token standard.\n",
      "\n",
      "If you want to learn more about how to interact with tokens in programs, you can check out the [Token Vault example](https://beta.solpg.io/tutorials/spl-token-vault) in Solana Playground."
     ]
    }
   ],
   "source": [
    "for piece in slm_request_stream('solana_assistant', 'What are tokens on Solana?'):\n",
    "    print(piece, end='')"
   ]
  },
  {
   "cell_type": "code",
   "execution_count": null,
   "id": "b5924258-498b-43b4-ab70-e9748cbae496",
   "metadata": {},
   "outputs": [],
   "source": []
  }
 ],
 "metadata": {
  "kernelspec": {
   "display_name": "Python 3 (ipykernel)",
   "language": "python",
   "name": "python3"
  },
  "language_info": {
   "codemirror_mode": {
    "name": "ipython",
    "version": 3
   },
   "file_extension": ".py",
   "mimetype": "text/x-python",
   "name": "python",
   "nbconvert_exporter": "python",
   "pygments_lexer": "ipython3",
   "version": "3.11.8"
  }
 },
 "nbformat": 4,
 "nbformat_minor": 5
}
