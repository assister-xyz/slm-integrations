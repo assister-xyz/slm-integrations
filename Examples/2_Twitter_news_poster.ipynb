{
 "cells": [
  {
   "cell_type": "markdown",
   "id": "a53f364f-10ed-4382-a2d8-8aa694f5f52c",
   "metadata": {},
   "source": [
    "## X infinite poster powered by SLM\n",
    "In this example we use Assisterr SLM model that can craft X posts from web3 structured data to automatically create X posts based on latest web3 news."
   ]
  },
  {
   "cell_type": "code",
   "execution_count": 1,
   "id": "9641976a-5d4f-466f-a69d-268338cea586",
   "metadata": {},
   "outputs": [],
   "source": [
    "import requests\n",
    "import tweepy\n",
    "import json\n",
    "import time\n",
    "\n",
    "\n",
    "# take these from developer.twitter.com\n",
    "API_KEY = \"\"\n",
    "API_SECRET = \"\"\n",
    "ACCESS_TOKEN = \"\"\n",
    "ACCESS_SECRET = \"\"\n",
    "BEARER_TOKEN = \"\"\n",
    "\n",
    "\n",
    "\n",
    "# API Key can be obtained from https://build.assisterr.ai/ailab \n",
    "ASSISTERR_API_KEY = ''\n",
    "ASSISTERR_SLM_X_POSTER = 'x_poster'"
   ]
  },
  {
   "cell_type": "code",
   "execution_count": 2,
   "id": "8ef69794-5d39-49d6-a275-31f4f769e707",
   "metadata": {},
   "outputs": [],
   "source": [
    "# For this example we'll use cryptopanic.com API to extract latest news from Web3\n",
    "# To enable this example grab you free API key from https://cryptopanic.com/developers/api/keys/\n",
    "\n",
    "CRYPTOPANIC_API_KEY = ''\n",
    "def make_web3_call():\n",
    "\n",
    "    url = f\"https://cryptopanic.com/api/v1/posts/?auth_token={CRYPTOPANIC_API_KEY}&kind=news&regions=en\"\n",
    "\n",
    "    headers = {\n",
    "      \"Accept\": \"application/json\"\n",
    "    }\n",
    "    \n",
    "    response = requests.request(\"GET\", url, headers=headers)\n",
    "    \n",
    "    metadata = [{'source': i['source']['title'], 'news': i['title']} for i in response.json()['results'][:10]] # Limit to 10 just to make sample smaller.\n",
    "    \n",
    "    data = {'description': 'Data represents some latest web3 news', 'data': metadata}\n",
    "    \n",
    "    return data"
   ]
  },
  {
   "cell_type": "code",
   "execution_count": 3,
   "id": "3a3ebded-50cc-4cbc-a2f5-e8a8da9a69f9",
   "metadata": {},
   "outputs": [],
   "source": [
    "# Then we need to call Assisterr SLM to convert raw web3 data into X post\n",
    "\n",
    "def make_slm_call(slm_slug: str, query: str):\n",
    "\n",
    "    url = f'https://api.assisterr.ai/api/v1/slm/{slm_slug}/chat/'\n",
    "\n",
    "    response = requests.post(url=url, headers={'X-Api-Key': ASSISTERR_API_KEY}, json={'query': query})\n",
    "    print(response.text)\n",
    "\n",
    "    return response.json()['message']"
   ]
  },
  {
   "cell_type": "code",
   "execution_count": 4,
   "id": "128524fa-e19f-4c3c-aa19-7779ae4569d0",
   "metadata": {},
   "outputs": [],
   "source": [
    "# Finally post Message that Assisterr SLM created on X\n",
    "\n",
    "def post_tweet(message):\n",
    "        \n",
    "    newapi = tweepy.Client(\n",
    "        bearer_token=BEARER_TOKEN,\n",
    "        access_token=ACCESS_TOKEN,\n",
    "        access_token_secret=ACCESS_SECRET,\n",
    "        consumer_key=API_KEY,\n",
    "        consumer_secret=API_SECRET,\n",
    "    )\n",
    "    \n",
    "    post_result = newapi.create_tweet(text=message)\n",
    "    print(f\"Tweet posted: {post_result.data['text']}\")"
   ]
  },
  {
   "cell_type": "code",
   "execution_count": 5,
   "id": "41f98fe8-722f-4a72-b7f5-241b49d762b8",
   "metadata": {},
   "outputs": [],
   "source": [
    "# Combine it all together:\n",
    "\n",
    "data = json.dumps(make_web3_call())\n",
    "slm = make_slm_call(ASSISTERR_SLM_X_POSTER, data)\n",
    "post_tweet(slm)"
   ]
  },
  {
   "cell_type": "code",
   "execution_count": null,
   "id": "88333cf8-efa1-40d2-bef5-0d44c7dfffb6",
   "metadata": {},
   "outputs": [],
   "source": []
  },
  {
   "cell_type": "code",
   "execution_count": 6,
   "id": "dbdf511c-92ef-4f60-8bf7-4257d4254ab9",
   "metadata": {
    "scrolled": true
   },
   "outputs": [],
   "source": [
    "# Bonus section! Infinite news poster on X empowered by Assisterr SLM\n",
    "\n",
    "def infinite_poster(time_interval=5*60*60):\n",
    "    while True:\n",
    "        data = json.dumps(make_web3_call())\n",
    "        slm = make_slm_call(ASSISTERR_SLM_X_POSTER, data)\n",
    "        post_tweet(slm)\n",
    "        time.sleep(time_interval)"
   ]
  },
  {
   "cell_type": "code",
   "execution_count": 7,
   "id": "b6880e7e-0b11-4715-840d-5c36b763d41a",
   "metadata": {},
   "outputs": [],
   "source": [
    "infinite_poster()"
   ]
  },
  {
   "cell_type": "code",
   "execution_count": null,
   "id": "326abe13-4f26-4217-bb2f-fe9aed3f0f4b",
   "metadata": {},
   "outputs": [],
   "source": []
  }
 ],
 "metadata": {
  "kernelspec": {
   "display_name": "Python 3 (ipykernel)",
   "language": "python",
   "name": "python3"
  },
  "language_info": {
   "codemirror_mode": {
    "name": "ipython",
    "version": 3
   },
   "file_extension": ".py",
   "mimetype": "text/x-python",
   "name": "python",
   "nbconvert_exporter": "python",
   "pygments_lexer": "ipython3",
   "version": "3.11.8"
  }
 },
 "nbformat": 4,
 "nbformat_minor": 5
}
